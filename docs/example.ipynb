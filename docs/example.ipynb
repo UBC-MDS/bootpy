{
 "cells": [
  {
   "cell_type": "markdown",
   "metadata": {
    "tags": []
   },
   "source": [
    "# How to use StrapPy\n",
    "\n",
    "This notebook shows how you can utilize the strapPy package within a project. We will be using the toy dataset `iris` from the seaborn package to demonstrate the usage. This dataset contains different iris flowers and their characteristics. "
   ]
  },
  {
   "cell_type": "code",
   "execution_count": 1,
   "metadata": {},
   "outputs": [
    {
     "name": "stdout",
     "output_type": "stream",
     "text": [
      "0.1.0\n"
     ]
    }
   ],
   "source": [
    "import strappy\n",
    "\n",
    "print(strappy.__version__)"
   ]
  },
  {
   "cell_type": "code",
   "execution_count": 2,
   "metadata": {},
   "outputs": [
    {
     "data": {
      "text/html": [
       "<div>\n",
       "<style scoped>\n",
       "    .dataframe tbody tr th:only-of-type {\n",
       "        vertical-align: middle;\n",
       "    }\n",
       "\n",
       "    .dataframe tbody tr th {\n",
       "        vertical-align: top;\n",
       "    }\n",
       "\n",
       "    .dataframe thead th {\n",
       "        text-align: right;\n",
       "    }\n",
       "</style>\n",
       "<table border=\"1\" class=\"dataframe\">\n",
       "  <thead>\n",
       "    <tr style=\"text-align: right;\">\n",
       "      <th></th>\n",
       "      <th>sepal_length</th>\n",
       "      <th>sepal_width</th>\n",
       "      <th>petal_length</th>\n",
       "      <th>petal_width</th>\n",
       "      <th>species</th>\n",
       "    </tr>\n",
       "  </thead>\n",
       "  <tbody>\n",
       "    <tr>\n",
       "      <th>0</th>\n",
       "      <td>5.1</td>\n",
       "      <td>3.5</td>\n",
       "      <td>1.4</td>\n",
       "      <td>0.2</td>\n",
       "      <td>setosa</td>\n",
       "    </tr>\n",
       "    <tr>\n",
       "      <th>1</th>\n",
       "      <td>4.9</td>\n",
       "      <td>3.0</td>\n",
       "      <td>1.4</td>\n",
       "      <td>0.2</td>\n",
       "      <td>setosa</td>\n",
       "    </tr>\n",
       "    <tr>\n",
       "      <th>2</th>\n",
       "      <td>4.7</td>\n",
       "      <td>3.2</td>\n",
       "      <td>1.3</td>\n",
       "      <td>0.2</td>\n",
       "      <td>setosa</td>\n",
       "    </tr>\n",
       "    <tr>\n",
       "      <th>3</th>\n",
       "      <td>4.6</td>\n",
       "      <td>3.1</td>\n",
       "      <td>1.5</td>\n",
       "      <td>0.2</td>\n",
       "      <td>setosa</td>\n",
       "    </tr>\n",
       "    <tr>\n",
       "      <th>4</th>\n",
       "      <td>5.0</td>\n",
       "      <td>3.6</td>\n",
       "      <td>1.4</td>\n",
       "      <td>0.2</td>\n",
       "      <td>setosa</td>\n",
       "    </tr>\n",
       "  </tbody>\n",
       "</table>\n",
       "</div>"
      ],
      "text/plain": [
       "   sepal_length  sepal_width  petal_length  petal_width species\n",
       "0           5.1          3.5           1.4          0.2  setosa\n",
       "1           4.9          3.0           1.4          0.2  setosa\n",
       "2           4.7          3.2           1.3          0.2  setosa\n",
       "3           4.6          3.1           1.5          0.2  setosa\n",
       "4           5.0          3.6           1.4          0.2  setosa"
      ]
     },
     "execution_count": 2,
     "metadata": {},
     "output_type": "execute_result"
    }
   ],
   "source": [
    "# import seaborn to load example data set\n",
    "import seaborn as sns\n",
    "\n",
    "iris = sns.load_dataset(\"iris\")\n",
    "iris.head()"
   ]
  },
  {
   "cell_type": "markdown",
   "metadata": {},
   "source": [
    "<br>"
   ]
  },
  {
   "cell_type": "markdown",
   "metadata": {},
   "source": [
    "## 1. Bootstrapping functions\n",
    "\n",
    "There are two functions  in the bootstrap module, `bootstrap_distribution` and `calculate_boot_stats`. These two functions perform the bootstrapping and calculate the relevant statistics. "
   ]
  },
  {
   "cell_type": "code",
   "execution_count": 3,
   "metadata": {},
   "outputs": [],
   "source": [
    "from strappy.bootstrap import bootstrap_distribution, calculate_boot_stats\n",
    "\n",
    "# Select a single column from data to work with\n",
    "ex_data = iris[\"sepal_width\"]"
   ]
  },
  {
   "cell_type": "markdown",
   "metadata": {},
   "source": [
    "<br>"
   ]
  },
  {
   "cell_type": "markdown",
   "metadata": {},
   "source": [
    "### 1.1 `bootstrap_distribution`     \n",
    "This function performs the bootstrap and returns an array of the results.    \n",
    "\n",
    "<br>\n",
    "<b>Function Inputs</b>\n",
    "\n",
    "- <u>sample</u> : the data that will be bootstrapped    \n",
    "- <u>rep</u> : the number of repetitions of bootstrapping    \n",
    "    - this controls the size of the output array    \n",
    "- <u>n</u> : number of samples in each bootstrap    \n",
    "    - default is `auto` which means the distribution will be the same size as the original sample    \n",
    "- <u>estimator</u> : what sample statistic we are calculating with the bootstrap      \n",
    "    - mean, median, var (i.e. variance), or sd  (i.e. standard deviation)    \n",
    "- <u>random_seed</u> : we can set this for reproducibility  \n",
    "<br>"
   ]
  },
  {
   "cell_type": "code",
   "execution_count": 4,
   "metadata": {},
   "outputs": [
    {
     "data": {
      "text/plain": [
       "array([3.07466667, 3.06533333, 3.044     , 3.04866667, 3.07466667,\n",
       "       3.13266667, 3.062     , 3.08466667, 3.042     , 3.07333333,\n",
       "       3.034     , 3.05933333, 3.054     , 3.12466667, 3.07      ,\n",
       "       3.06133333, 3.102     , 3.04466667, 3.126     , 3.036     ,\n",
       "       3.03933333, 3.06666667, 3.09466667, 3.07333333, 3.044     ,\n",
       "       3.06466667, 3.096     , 3.03266667, 3.10266667, 3.078     ,\n",
       "       3.1       , 3.04066667, 3.09866667, 3.046     , 3.09866667,\n",
       "       3.08666667, 3.06066667, 3.03      , 3.07133333, 3.15333333,\n",
       "       2.992     , 3.09266667, 3.03133333, 2.99666667, 3.04066667,\n",
       "       3.056     , 3.00733333, 3.13666667, 3.12866667, 3.088     ])"
      ]
     },
     "execution_count": 4,
     "metadata": {},
     "output_type": "execute_result"
    }
   ],
   "source": [
    "# returns 50 sample means via bootstrapping\n",
    "bootstrap_distribution(ex_data, 50, random_seed=20)"
   ]
  },
  {
   "cell_type": "markdown",
   "metadata": {},
   "source": [
    "<br>"
   ]
  },
  {
   "cell_type": "code",
   "execution_count": 5,
   "metadata": {},
   "outputs": [
    {
     "data": {
      "text/plain": [
       "array([0.18535822, 0.19506489, 0.16939733, 0.18449822, 0.17415822,\n",
       "       0.21633289, 0.205156  , 0.20529822, 0.20416933, 0.17728889,\n",
       "       0.17771067, 0.15054622, 0.21435067, 0.19905822, 0.16276667,\n",
       "       0.20583822, 0.19952933, 0.17273822, 0.20445733, 0.19337067,\n",
       "       0.20251956, 0.16008889, 0.19503822, 0.21795556, 0.18179733,\n",
       "       0.18468489, 0.18091733, 0.19379956, 0.16785956, 0.17344933,\n",
       "       0.20373333, 0.18107956, 0.15573156, 0.14915067, 0.21959822,\n",
       "       0.20155556, 0.22758622, 0.18743333, 0.18191156, 0.20728889,\n",
       "       0.14540267, 0.18921289, 0.15881822, 0.16472222, 0.20494622,\n",
       "       0.19459733, 0.17761289, 0.20365556, 0.19684489, 0.161056  ,\n",
       "       0.17415289, 0.19053333, 0.20593956, 0.16809822, 0.23328889,\n",
       "       0.19525156, 0.17689067, 0.17509156, 0.16032222, 0.19157156,\n",
       "       0.16348267, 0.19065289, 0.22592222, 0.17166267, 0.182884  ,\n",
       "       0.15885733, 0.17381156, 0.22510933, 0.19329822, 0.15343333,\n",
       "       0.21625289, 0.16119289, 0.17781733, 0.19305067, 0.193664  ])"
      ]
     },
     "execution_count": 5,
     "metadata": {},
     "output_type": "execute_result"
    }
   ],
   "source": [
    "# returns 75 sample variance via bootstrapping \n",
    "bootstrap_distribution(ex_data, 75, estimator=\"var\", random_seed=20)"
   ]
  },
  {
   "cell_type": "markdown",
   "metadata": {},
   "source": [
    "<br>"
   ]
  },
  {
   "cell_type": "markdown",
   "metadata": {},
   "source": [
    "### 1.2 `calculate_bootstrap_stats`     \n",
    "This function performs bootstrapping and returns a dictionary of the sampling distribution statistics.   \n",
    "<br>\n",
    "<b>Inputs</b>  \n",
    "\n",
    "- <u>sample</u> : the data that will be bootstrapped  \n",
    "- <u>rep</u> : the number of repetitions of bootstrapping    \n",
    "    - this controls the size of the output array       \n",
    "- <u>n</u> : number of samples in each bootstrap  \n",
    "    - default is `auto` which means the distribution will be the same size as the original sample  \n",
    "- <u>level</u> : the significance level of interest for the sampling distribution \n",
    "    - a value between 0 and 1\n",
    "- <u>estimator</u> : what sample statistic we are calculating with the bootstrap  \n",
    "    - mean, median, var (i.e. variance), or sd  (i.e. standard deviation)  \n",
    "- <u>random_seed</u> : we can set this for reproducibility     \n",
    "- <u> pass_dist </u> : specifies if the sampling distribution is returned from the function \n",
    "<br>"
   ]
  },
  {
   "cell_type": "code",
   "execution_count": 6,
   "metadata": {},
   "outputs": [
    {
     "data": {
      "text/plain": [
       "{'lower': 3.003133333333333,\n",
       " 'upper': 3.1347666666666667,\n",
       " 'sample_mean': 3.0573333333333337,\n",
       " 'std_err': 0.03242293495523054,\n",
       " 'level': 0.95,\n",
       " 'sample_size': 150,\n",
       " 'n': 'auto',\n",
       " 'rep': 100,\n",
       " 'estimator': 'mean'}"
      ]
     },
     "execution_count": 6,
     "metadata": {},
     "output_type": "execute_result"
    }
   ],
   "source": [
    "# Get 100 sample means via bootstrapping and calcualte statistics at the\n",
    "# 95% confidence interval\n",
    "st = calculate_boot_stats(ex_data, 100, level=0.95, random_seed=20)\n",
    "st"
   ]
  },
  {
   "cell_type": "code",
   "execution_count": 7,
   "metadata": {},
   "outputs": [
    {
     "data": {
      "text/plain": [
       "dict"
      ]
     },
     "execution_count": 7,
     "metadata": {},
     "output_type": "execute_result"
    }
   ],
   "source": [
    "# Output data type\n",
    "type(st)"
   ]
  },
  {
   "cell_type": "code",
   "execution_count": 8,
   "metadata": {},
   "outputs": [
    {
     "data": {
      "text/plain": [
       "({'lower': 0.1528796222222222,\n",
       "  'upper': 0.21722535555555553,\n",
       "  'sample_var': 0.1887128888888889,\n",
       "  'std_err': 0.01984580483579152,\n",
       "  'level': 0.9,\n",
       "  'sample_size': 150,\n",
       "  'n': 'auto',\n",
       "  'rep': 50,\n",
       "  'estimator': 'var'},\n",
       " array([0.18535822, 0.19506489, 0.16939733, 0.18449822, 0.17415822,\n",
       "        0.21633289, 0.205156  , 0.20529822, 0.20416933, 0.17728889,\n",
       "        0.17771067, 0.15054622, 0.21435067, 0.19905822, 0.16276667,\n",
       "        0.20583822, 0.19952933, 0.17273822, 0.20445733, 0.19337067,\n",
       "        0.20251956, 0.16008889, 0.19503822, 0.21795556, 0.18179733,\n",
       "        0.18468489, 0.18091733, 0.19379956, 0.16785956, 0.17344933,\n",
       "        0.20373333, 0.18107956, 0.15573156, 0.14915067, 0.21959822,\n",
       "        0.20155556, 0.22758622, 0.18743333, 0.18191156, 0.20728889,\n",
       "        0.14540267, 0.18921289, 0.15881822, 0.16472222, 0.20494622,\n",
       "        0.19459733, 0.17761289, 0.20365556, 0.19684489, 0.161056  ]))"
      ]
     },
     "execution_count": 8,
     "metadata": {},
     "output_type": "execute_result"
    }
   ],
   "source": [
    "# Get 50 sample variances via bootstrapping at a 90% confidence level\n",
    "# and return the bootstrap distribution along with the statistics\n",
    "\n",
    "st = calculate_boot_stats(\n",
    "    ex_data, 50, level=0.90, random_seed=20, estimator=\"var\", pass_dist=True)\n",
    "st"
   ]
  },
  {
   "cell_type": "code",
   "execution_count": 9,
   "metadata": {},
   "outputs": [
    {
     "data": {
      "text/plain": [
       "tuple"
      ]
     },
     "execution_count": 9,
     "metadata": {},
     "output_type": "execute_result"
    }
   ],
   "source": [
    "# Data type when the distribution is returned along with the statistics\n",
    "type(st)"
   ]
  },
  {
   "cell_type": "code",
   "execution_count": 10,
   "metadata": {},
   "outputs": [
    {
     "data": {
      "text/plain": [
       "dict"
      ]
     },
     "execution_count": 10,
     "metadata": {},
     "output_type": "execute_result"
    }
   ],
   "source": [
    "type(st[0])"
   ]
  },
  {
   "cell_type": "code",
   "execution_count": 11,
   "metadata": {},
   "outputs": [
    {
     "data": {
      "text/plain": [
       "numpy.ndarray"
      ]
     },
     "execution_count": 11,
     "metadata": {},
     "output_type": "execute_result"
    }
   ],
   "source": [
    "type(st[1])"
   ]
  },
  {
   "cell_type": "markdown",
   "metadata": {},
   "source": [
    "<br>"
   ]
  },
  {
   "cell_type": "markdown",
   "metadata": {},
   "source": [
    "## 2. Visualizations\n",
    "    \n",
    "There are two functions in the display module, `plot_ci` and `tabulate_stats`. These use the bootstrapping statistics to create report-ready visualizations and tables of the sampling distribution. "
   ]
  },
  {
   "cell_type": "code",
   "execution_count": 12,
   "metadata": {},
   "outputs": [],
   "source": [
    "from strappy.display import plot_ci, tabulate_stats"
   ]
  },
  {
   "cell_type": "markdown",
   "metadata": {},
   "source": [
    "### 2.1 `plot_ci`     \n",
    "This function creates a histogram of a sampling distribution with its confidence interval and sample mean \n",
    "\n",
    "<br>\n",
    "<b>Inputs:</b>  \n",
    "\n",
    "- <u>sample</u> : the data that will be bootstrapped\n",
    "- <u>rep</u> : the number of repetitions of bootstrapping \n",
    "- <u>bin_size</u> : the number of bins data will be split into for the histogram \n",
    "- <u>n</u> :  number of samples in each bootstrap \n",
    "    - default is `auto` which means the distribution will be the same size as the original sample  \n",
    "- <u>ci_level</u> : the significance level of interest for the sampling distribution\n",
    "    - value between 0 and 1\n",
    "- <u>ci_random_seed</u> : we can set this for reproducibility \n",
    "- <u>title</u> : title of the histogram\n",
    "- <u>x_axis</u> : name of the x axis\n",
    "- <u> y_axis</u> : name of the y axis\n",
    "- <u> save_result_to</u>: path to where function should be saved\n",
    "    - default is to save it in the working directory\n",
    "<br>"
   ]
  },
  {
   "cell_type": "code",
   "execution_count": 13,
   "metadata": {},
   "outputs": [
    {
     "data": {
      "text/plain": [
       "(<module 'matplotlib.pyplot' from 'C:\\\\Users\\\\margo.DESKTOP-T66VM01\\\\miniconda3\\\\envs\\\\strapy\\\\lib\\\\site-packages\\\\matplotlib\\\\pyplot.py'>,\n",
       " '')"
      ]
     },
     "execution_count": 13,
     "metadata": {},
     "output_type": "execute_result"
    },
    {
     "data": {
      "image/png": "[encoded data removed]",
      "text/plain": [
       "<Figure size 432x288 with 1 Axes>"
      ]
     },
     "metadata": {
      "needs_background": "light"
     },
     "output_type": "display_data"
    }
   ],
   "source": [
    "# Plot sampling distibution of 1000 sample means at a 95% confidence interval\n",
    "plot_ci(ex_data, rep=1000, ci_level=0.95, ci_random_seed=123);"
   ]
  },
  {
   "cell_type": "markdown",
   "metadata": {},
   "source": [
    "<br>"
   ]
  },
  {
   "cell_type": "code",
   "execution_count": 21,
   "metadata": {},
   "outputs": [
    {
     "data": {
      "image/png": "[encoded data removed]",
      "text/plain": [
       "<Figure size 432x288 with 1 Axes>"
      ]
     },
     "metadata": {
      "needs_background": "light"
     },
     "output_type": "display_data"
    }
   ],
   "source": [
    "# Plot sampling distibution of 1000 sample means at a 99% confidence interval\n",
    "# with a unique title and a bin size of 50\n",
    "\n",
    "title = \"Bootstrapped Iris Septal Width\"\n",
    "plot_ci(\n",
    "    ex_data, rep=1000, bin_size=50, ci_level=0.99,\n",
    "    title=title, ci_random_seed=123);"
   ]
  },
  {
   "cell_type": "markdown",
   "metadata": {},
   "source": [
    "<br>"
   ]
  },
  {
   "cell_type": "markdown",
   "metadata": {},
   "source": [
    "### 2.2 `tabulate_stats`     \n",
    "This function creates two tables that summarize the sampling distribution and the parameters for creating the bootstrapped samples and saves them as html files.\n",
    "\n",
    "<br>\n",
    "<b>Inputs</b>  \n",
    "\n",
    "- <u>stat</u> : summary statistics produced by the `calculate_boot_stats()` function \n",
    "- <u>precision</u> : the precision of the table values\n",
    "    - how many decimal places are shown \n",
    "- <u>estimator</u> : indicates if the bootstrapped statistic is shown in the summary statistics table\n",
    "- <u>alpha</u> : indicates if the significance level should be shown in the summary statistics table\n",
    "- <u>path</u> : can specify a folder path where you want to save the tables\n"
   ]
  },
  {
   "cell_type": "code",
   "execution_count": 15,
   "metadata": {},
   "outputs": [],
   "source": [
    "st = calculate_boot_stats(ex_data, 1000, level=0.95, random_seed=20)\n",
    "\n",
    "stats_table, parameter_table = tabulate_stats(st)"
   ]
  },
  {
   "cell_type": "code",
   "execution_count": 16,
   "metadata": {},
   "outputs": [
    {
     "data": {
      "text/html": [
       "<style type=\"text/css\">\n",
       "#T_3713b caption {\n",
       "  caption-side: bottom;\n",
       "  font-size: 1.00em;\n",
       "}\n",
       "</style>\n",
       "<table id=\"T_3713b\">\n",
       "  <caption>Bootstrapping sample statistics from sample with 150 records</caption>\n",
       "  <thead>\n",
       "    <tr>\n",
       "      <th id=\"T_3713b_level0_col0\" class=\"col_heading level0 col0\" >Lower Bound CI</th>\n",
       "      <th id=\"T_3713b_level0_col1\" class=\"col_heading level0 col1\" >Upper Bound CI</th>\n",
       "      <th id=\"T_3713b_level0_col2\" class=\"col_heading level0 col2\" >Standard Error</th>\n",
       "      <th id=\"T_3713b_level0_col3\" class=\"col_heading level0 col3\" >Sample mean</th>\n",
       "      <th id=\"T_3713b_level0_col4\" class=\"col_heading level0 col4\" >Significance Level</th>\n",
       "    </tr>\n",
       "  </thead>\n",
       "  <tbody>\n",
       "    <tr>\n",
       "      <td id=\"T_3713b_row0_col0\" class=\"data row0 col0\" >2.99</td>\n",
       "      <td id=\"T_3713b_row0_col1\" class=\"data row0 col1\" >3.12</td>\n",
       "      <td id=\"T_3713b_row0_col2\" class=\"data row0 col2\" >0.03</td>\n",
       "      <td id=\"T_3713b_row0_col3\" class=\"data row0 col3\" >3.06</td>\n",
       "      <td id=\"T_3713b_row0_col4\" class=\"data row0 col4\" >0.050</td>\n",
       "    </tr>\n",
       "  </tbody>\n",
       "</table>\n"
      ],
      "text/plain": [
       "<pandas.io.formats.style.Styler at 0x155c14639a0>"
      ]
     },
     "execution_count": 16,
     "metadata": {},
     "output_type": "execute_result"
    }
   ],
   "source": [
    "stats_table"
   ]
  },
  {
   "cell_type": "markdown",
   "metadata": {},
   "source": [
    "<br>"
   ]
  },
  {
   "cell_type": "code",
   "execution_count": 17,
   "metadata": {},
   "outputs": [
    {
     "data": {
      "text/html": [
       "<style type=\"text/css\">\n",
       "#T_cb1d1 caption {\n",
       "  caption-side: bottom;\n",
       "  font-size: 1.00em;\n",
       "}\n",
       "</style>\n",
       "<table id=\"T_cb1d1\">\n",
       "  <caption>Parameters used for bootstrapping</caption>\n",
       "  <thead>\n",
       "    <tr>\n",
       "      <th id=\"T_cb1d1_level0_col0\" class=\"col_heading level0 col0\" >Sample Size</th>\n",
       "      <th id=\"T_cb1d1_level0_col1\" class=\"col_heading level0 col1\" >Repetition</th>\n",
       "      <th id=\"T_cb1d1_level0_col2\" class=\"col_heading level0 col2\" >Significance Level</th>\n",
       "    </tr>\n",
       "  </thead>\n",
       "  <tbody>\n",
       "    <tr>\n",
       "      <td id=\"T_cb1d1_row0_col0\" class=\"data row0 col0\" >150</td>\n",
       "      <td id=\"T_cb1d1_row0_col1\" class=\"data row0 col1\" >1000</td>\n",
       "      <td id=\"T_cb1d1_row0_col2\" class=\"data row0 col2\" >0.050</td>\n",
       "    </tr>\n",
       "  </tbody>\n",
       "</table>\n"
      ],
      "text/plain": [
       "<pandas.io.formats.style.Styler at 0x155c1468dc0>"
      ]
     },
     "execution_count": 17,
     "metadata": {},
     "output_type": "execute_result"
    }
   ],
   "source": [
    "parameter_table"
   ]
  },
  {
   "cell_type": "markdown",
   "metadata": {},
   "source": [
    "<br>"
   ]
  },
  {
   "cell_type": "code",
   "execution_count": 18,
   "metadata": {},
   "outputs": [
    {
     "data": {
      "text/plain": [
       "pandas.io.formats.style.Styler"
      ]
     },
     "execution_count": 18,
     "metadata": {},
     "output_type": "execute_result"
    }
   ],
   "source": [
    "# tables are pandas styler objects not pandas dataframes\n",
    "type(stats_table)"
   ]
  },
  {
   "cell_type": "code",
   "execution_count": 19,
   "metadata": {},
   "outputs": [
    {
     "data": {
      "text/html": [
       "<div>\n",
       "<style scoped>\n",
       "    .dataframe tbody tr th:only-of-type {\n",
       "        vertical-align: middle;\n",
       "    }\n",
       "\n",
       "    .dataframe tbody tr th {\n",
       "        vertical-align: top;\n",
       "    }\n",
       "\n",
       "    .dataframe thead th {\n",
       "        text-align: right;\n",
       "    }\n",
       "</style>\n",
       "<table border=\"1\" class=\"dataframe\">\n",
       "  <thead>\n",
       "    <tr style=\"text-align: right;\">\n",
       "      <th></th>\n",
       "      <th>Lower Bound CI</th>\n",
       "      <th>Upper Bound CI</th>\n",
       "      <th>Standard Error</th>\n",
       "      <th>Sample mean</th>\n",
       "      <th>Significance Level</th>\n",
       "    </tr>\n",
       "  </thead>\n",
       "  <tbody>\n",
       "    <tr>\n",
       "      <th>0</th>\n",
       "      <td>2.9933</td>\n",
       "      <td>3.124667</td>\n",
       "      <td>0.033979</td>\n",
       "      <td>3.057333</td>\n",
       "      <td>0.05</td>\n",
       "    </tr>\n",
       "  </tbody>\n",
       "</table>\n",
       "</div>"
      ],
      "text/plain": [
       "   Lower Bound CI  Upper Bound CI  Standard Error  Sample mean  \\\n",
       "0          2.9933        3.124667        0.033979     3.057333   \n",
       "\n",
       "   Significance Level  \n",
       "0                0.05  "
      ]
     },
     "execution_count": 19,
     "metadata": {},
     "output_type": "execute_result"
    }
   ],
   "source": [
    "# Changes the styler object back to a pandas dataframe\n",
    "stats_table.data"
   ]
  },
  {
   "cell_type": "code",
   "execution_count": 20,
   "metadata": {},
   "outputs": [
    {
     "data": {
      "text/plain": [
       "pandas.core.frame.DataFrame"
      ]
     },
     "execution_count": 20,
     "metadata": {},
     "output_type": "execute_result"
    }
   ],
   "source": [
    "type(stats_table.data)"
   ]
  }
 ],
 "metadata": {
  "kernelspec": {
   "display_name": "Python 3 (ipykernel)",
   "language": "python",
   "name": "python3"
  },
  "language_info": {
   "codemirror_mode": {
    "name": "ipython",
    "version": 3
   },
   "file_extension": ".py",
   "mimetype": "text/x-python",
   "name": "python",
   "nbconvert_exporter": "python",
   "pygments_lexer": "ipython3",
   "version": "3.9.7"
  }
 },
 "nbformat": 4,
 "nbformat_minor": 4
}

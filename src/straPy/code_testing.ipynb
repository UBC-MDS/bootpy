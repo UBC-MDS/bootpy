{
 "cells": [
  {
   "cell_type": "code",
   "execution_count": 2,
   "id": "3848f554-0df8-427e-9a7f-287dd78f5e0a",
   "metadata": {},
   "outputs": [],
   "source": [
    "import numpy as np\n",
    "import pandas as pd\n",
    "from bootstrap import *"
   ]
  },
  {
   "cell_type": "code",
   "execution_count": 3,
   "id": "3f625dc4-ffd4-49a4-989f-cd05a0b0198a",
   "metadata": {},
   "outputs": [],
   "source": [
    "st = calculate_boot_stats([1, 2, 3, 4], 1000, level=0.95, random_seed=123)"
   ]
  },
  {
   "cell_type": "code",
   "execution_count": 4,
   "id": "40d4fe1a-c078-4a5d-9669-54e24f4f2230",
   "metadata": {},
   "outputs": [
    {
     "data": {
      "text/plain": [
       "dict_keys(['lower', 'upper', 'sample_mean', 'std_err', 'level', 'sample_size', 'n', 'rep', 'estimator'])"
      ]
     },
     "execution_count": 4,
     "metadata": {},
     "output_type": "execute_result"
    }
   ],
   "source": [
    "st.keys()"
   ]
  },
  {
   "cell_type": "code",
   "execution_count": 12,
   "id": "a366c2e9-6840-476b-91f9-095a42381b3b",
   "metadata": {},
   "outputs": [
    {
     "data": {
      "text/plain": [
       "{'lower': 1.5,\n",
       " 'upper': 3.5,\n",
       " 'sample_mean': 2.5,\n",
       " 'std_err': 0.5414773771820943,\n",
       " 'level': 0.95,\n",
       " 'sample_size': 4,\n",
       " 'n': 'auto',\n",
       " 'rep': 1000,\n",
       " 'estimator': 'mean'}"
      ]
     },
     "execution_count": 12,
     "metadata": {},
     "output_type": "execute_result"
    }
   ],
   "source": [
    "st"
   ]
  },
  {
   "cell_type": "code",
   "execution_count": 6,
   "id": "0d9f7e43-4f86-4c54-8cef-4c02ae693287",
   "metadata": {},
   "outputs": [
    {
     "data": {
      "text/html": [
       "<div>\n",
       "<style scoped>\n",
       "    .dataframe tbody tr th:only-of-type {\n",
       "        vertical-align: middle;\n",
       "    }\n",
       "\n",
       "    .dataframe tbody tr th {\n",
       "        vertical-align: top;\n",
       "    }\n",
       "\n",
       "    .dataframe thead th {\n",
       "        text-align: right;\n",
       "    }\n",
       "</style>\n",
       "<table border=\"1\" class=\"dataframe\">\n",
       "  <thead>\n",
       "    <tr style=\"text-align: right;\">\n",
       "      <th></th>\n",
       "      <th>0</th>\n",
       "      <th>1</th>\n",
       "      <th>2</th>\n",
       "    </tr>\n",
       "  </thead>\n",
       "  <tbody>\n",
       "    <tr>\n",
       "      <th>0</th>\n",
       "      <td>1.5</td>\n",
       "      <td>3.5</td>\n",
       "      <td>0.541477</td>\n",
       "    </tr>\n",
       "  </tbody>\n",
       "</table>\n",
       "</div>"
      ],
      "text/plain": [
       "     0    1         2\n",
       "0  1.5  3.5  0.541477"
      ]
     },
     "execution_count": 6,
     "metadata": {},
     "output_type": "execute_result"
    }
   ],
   "source": [
    "    df = pd.DataFrame(data= np.array([(stat_dic[\"lower\"], stat_dic[\"upper\"], stat_dic[\"std_err\"])]))\n",
    "    df"
   ]
  },
  {
   "cell_type": "code",
   "execution_count": 7,
   "id": "7fc548e5-50ef-4ee2-aa77-47e08cb1bb2a",
   "metadata": {},
   "outputs": [
    {
     "data": {
      "text/plain": [
       "['Lower bound CI', 'Upper bound CI', 'Standard Error']"
      ]
     },
     "execution_count": 7,
     "metadata": {},
     "output_type": "execute_result"
    }
   ],
   "source": [
    "[\"Lower bound CI\", \"Upper bound CI\", \"Standard Error\"]"
   ]
  },
  {
   "cell_type": "code",
   "execution_count": 83,
   "id": "f21daf6e-34a0-4258-a531-01e59f69b88b",
   "metadata": {},
   "outputs": [],
   "source": [
    "def ci_table(\n",
    "    stat_dic, rounding=2, estimator=True, alpha=True, sample_size=True, n=True, rep=True\n",
    "):\n",
    "    df = pd.DataFrame(\n",
    "        data=np.round(\n",
    "            np.array([(stat_dic[\"lower\"], stat_dic[\"upper\"], stat_dic[\"std_err\"])]),\n",
    "            rounding,\n",
    "        ),\n",
    "        columns=[\"Lower bound CI\", \"Upper bound CI\", \"Standard Error\"],\n",
    "    )\n",
    "\n",
    "    if estimator is True:\n",
    "        s_name = \"Sample \" + stat_dic[\"estimator\"]\n",
    "        df[s_name] = np.round(stat_dic[\"sample_\" + stat_dic[\"estimator\"]], rounding)\n",
    "\n",
    "    if alpha is True:\n",
    "        df[\"Significance Level\"] = 1 - stat_dic[\"level\"]\n",
    "        s = df.style.format(\n",
    "            precision=rounding, formatter={(\"Significance Level\"): \"{:.3f}\"}\n",
    "        )\n",
    "    else:\n",
    "        s = df.style.format(precision=rounding)\n",
    "\n",
    "    # table.set_caption(\"Bootstrap sampling statistics\")\n",
    "    s.set_caption(\n",
    "        \"Bootstrapping sample statistics from sample with \"\n",
    "        + str(st[\"sample_size\"])\n",
    "        + \" records\"\n",
    "    ).set_table_styles(\n",
    "        [{\"selector\": \"caption\", \"props\": \"caption-side: bottom; font-size:1.00em;\"}],\n",
    "        overwrite=False,\n",
    "    )\n",
    "\n",
    "    df_bs = pd.DataFrame(\n",
    "        data=np.array(\n",
    "            [\n",
    "                (\n",
    "                    round(stat_dic[\"sample_size\"], 0),\n",
    "                    round(stat_dic[\"rep\"], 0),\n",
    "                    1 - stat_dic[\"level\"],\n",
    "                )\n",
    "            ]\n",
    "        ),\n",
    "        columns=[\"Sample Size\", \"Repetition\", \"Significance Level\"],\n",
    "    )\n",
    "    if stat_dic[\"n\"] != \"auto\":\n",
    "        df_bs[\"Samples per bootstrap\"] = round(stat_dic[\"n\"], 0)\n",
    "\n",
    "    bs_info = df_bs.style.format(\n",
    "        precision=0, formatter={(\"Significance Level\"): \"{:.3f}\"}\n",
    "    )\n",
    "    bs_info.set_caption(\"Parameters used for bootstrapping\").set_table_styles(\n",
    "        [{\"selector\": \"caption\", \"props\": \"caption-side: bottom; font-size:1.00em;\"}],\n",
    "        overwrite=False,\n",
    "    )\n",
    "\n",
    "    return s, bs_info"
   ]
  },
  {
   "cell_type": "code",
   "execution_count": 84,
   "id": "10042d49-2def-448a-ab88-85e8eaa3f45b",
   "metadata": {},
   "outputs": [
    {
     "data": {
      "text/html": [
       "<style type=\"text/css\">\n",
       "#T_65a24_ caption {\n",
       "  caption-side: bottom;\n",
       "  font-size: 1.00em;\n",
       "}\n",
       "</style>\n",
       "<table id=\"T_65a24_\">\n",
       "  <caption>Bootstrapping sample statistics from sample with 4 records</caption>\n",
       "  <thead>\n",
       "    <tr>\n",
       "      <th class=\"blank level0\" >&nbsp;</th>\n",
       "      <th class=\"col_heading level0 col0\" >Lower bound CI</th>\n",
       "      <th class=\"col_heading level0 col1\" >Upper bound CI</th>\n",
       "      <th class=\"col_heading level0 col2\" >Standard Error</th>\n",
       "      <th class=\"col_heading level0 col3\" >Sample mean</th>\n",
       "      <th class=\"col_heading level0 col4\" >Significance Level</th>\n",
       "    </tr>\n",
       "  </thead>\n",
       "  <tbody>\n",
       "    <tr>\n",
       "      <th id=\"T_65a24_level0_row0\" class=\"row_heading level0 row0\" >0</th>\n",
       "      <td id=\"T_65a24_row0_col0\" class=\"data row0 col0\" >1.50</td>\n",
       "      <td id=\"T_65a24_row0_col1\" class=\"data row0 col1\" >3.50</td>\n",
       "      <td id=\"T_65a24_row0_col2\" class=\"data row0 col2\" >0.54</td>\n",
       "      <td id=\"T_65a24_row0_col3\" class=\"data row0 col3\" >2.50</td>\n",
       "      <td id=\"T_65a24_row0_col4\" class=\"data row0 col4\" >0.050</td>\n",
       "    </tr>\n",
       "  </tbody>\n",
       "</table>\n"
      ],
      "text/plain": [
       "<pandas.io.formats.style.Styler at 0x22606ccab50>"
      ]
     },
     "execution_count": 84,
     "metadata": {},
     "output_type": "execute_result"
    }
   ],
   "source": [
    "statistics, summary = ci_table(st)\n",
    "statistics"
   ]
  },
  {
   "cell_type": "code",
   "execution_count": 85,
   "id": "be3fc8f0-224e-47e7-a799-4f61a079f3bb",
   "metadata": {},
   "outputs": [
    {
     "data": {
      "text/html": [
       "<style type=\"text/css\">\n",
       "#T_d550b_ caption {\n",
       "  caption-side: bottom;\n",
       "  font-size: 1.00em;\n",
       "}\n",
       "</style>\n",
       "<table id=\"T_d550b_\">\n",
       "  <caption>Parameters used for bootstrapping</caption>\n",
       "  <thead>\n",
       "    <tr>\n",
       "      <th class=\"blank level0\" >&nbsp;</th>\n",
       "      <th class=\"col_heading level0 col0\" >Sample Size</th>\n",
       "      <th class=\"col_heading level0 col1\" >Repetition</th>\n",
       "      <th class=\"col_heading level0 col2\" >Significance Level</th>\n",
       "    </tr>\n",
       "  </thead>\n",
       "  <tbody>\n",
       "    <tr>\n",
       "      <th id=\"T_d550b_level0_row0\" class=\"row_heading level0 row0\" >0</th>\n",
       "      <td id=\"T_d550b_row0_col0\" class=\"data row0 col0\" >4</td>\n",
       "      <td id=\"T_d550b_row0_col1\" class=\"data row0 col1\" >1000</td>\n",
       "      <td id=\"T_d550b_row0_col2\" class=\"data row0 col2\" >0.050</td>\n",
       "    </tr>\n",
       "  </tbody>\n",
       "</table>\n"
      ],
      "text/plain": [
       "<pandas.io.formats.style.Styler at 0x22606ccaa00>"
      ]
     },
     "execution_count": 85,
     "metadata": {},
     "output_type": "execute_result"
    }
   ],
   "source": [
    "summary"
   ]
  },
  {
   "cell_type": "code",
   "execution_count": 11,
   "id": "13e92891-cf84-4ca2-b91b-2cef10cf8aae",
   "metadata": {},
   "outputs": [],
   "source": [
    "dfi.export(ci_table(st), \"test_table.PNG\")"
   ]
  }
 ],
 "metadata": {
  "kernelspec": {
   "display_name": "Python 3 (ipykernel)",
   "language": "python",
   "name": "python3"
  },
  "language_info": {
   "codemirror_mode": {
    "name": "ipython",
    "version": 3
   },
   "file_extension": ".py",
   "mimetype": "text/x-python",
   "name": "python",
   "nbconvert_exporter": "python",
   "pygments_lexer": "ipython3",
   "version": "3.9.9"
  }
 },
 "nbformat": 4,
 "nbformat_minor": 5
}

{
 "cells": [
  {
   "cell_type": "code",
   "execution_count": 1,
   "id": "3848f554-0df8-427e-9a7f-287dd78f5e0a",
   "metadata": {},
   "outputs": [],
   "source": [
    "from bootstrap import *\n",
    "import numpy as np\n",
    "import pandas as pd"
   ]
  },
  {
   "cell_type": "code",
   "execution_count": 2,
   "id": "3f625dc4-ffd4-49a4-989f-cd05a0b0198a",
   "metadata": {},
   "outputs": [],
   "source": [
    "st = calculate_boot_stats([1, 2, 3, 4], 1000, level=0.95, random_seed=123)"
   ]
  },
  {
   "cell_type": "code",
   "execution_count": 3,
   "id": "40d4fe1a-c078-4a5d-9669-54e24f4f2230",
   "metadata": {},
   "outputs": [
    {
     "data": {
      "text/plain": [
       "dict_keys(['lower', 'upper', 'sample_mean', 'std_err', 'level', 'sample_size', 'n', 'rep', 'estimator'])"
      ]
     },
     "execution_count": 3,
     "metadata": {},
     "output_type": "execute_result"
    }
   ],
   "source": [
    "st.keys()"
   ]
  },
  {
   "cell_type": "code",
   "execution_count": 35,
   "id": "a366c2e9-6840-476b-91f9-095a42381b3b",
   "metadata": {},
   "outputs": [],
   "source": [
    "stat_dic = st"
   ]
  },
  {
   "cell_type": "code",
   "execution_count": 39,
   "id": "0d9f7e43-4f86-4c54-8cef-4c02ae693287",
   "metadata": {},
   "outputs": [
    {
     "data": {
      "text/html": [
       "<div>\n",
       "<style scoped>\n",
       "    .dataframe tbody tr th:only-of-type {\n",
       "        vertical-align: middle;\n",
       "    }\n",
       "\n",
       "    .dataframe tbody tr th {\n",
       "        vertical-align: top;\n",
       "    }\n",
       "\n",
       "    .dataframe thead th {\n",
       "        text-align: right;\n",
       "    }\n",
       "</style>\n",
       "<table border=\"1\" class=\"dataframe\">\n",
       "  <thead>\n",
       "    <tr style=\"text-align: right;\">\n",
       "      <th></th>\n",
       "      <th>0</th>\n",
       "      <th>1</th>\n",
       "      <th>2</th>\n",
       "    </tr>\n",
       "  </thead>\n",
       "  <tbody>\n",
       "    <tr>\n",
       "      <th>0</th>\n",
       "      <td>1.5</td>\n",
       "      <td>3.5</td>\n",
       "      <td>0.541477</td>\n",
       "    </tr>\n",
       "  </tbody>\n",
       "</table>\n",
       "</div>"
      ],
      "text/plain": [
       "     0    1         2\n",
       "0  1.5  3.5  0.541477"
      ]
     },
     "execution_count": 39,
     "metadata": {},
     "output_type": "execute_result"
    }
   ],
   "source": [
    "    df = pd.DataFrame(data= np.array([(stat_dic[\"lower\"], stat_dic[\"upper\"], stat_dic[\"std_err\"])]))\n",
    "    df"
   ]
  },
  {
   "cell_type": "code",
   "execution_count": 34,
   "id": "7fc548e5-50ef-4ee2-aa77-47e08cb1bb2a",
   "metadata": {},
   "outputs": [
    {
     "data": {
      "text/plain": [
       "['Lower bound CI', 'Upper bound CI', 'Standard Error']"
      ]
     },
     "execution_count": 34,
     "metadata": {},
     "output_type": "execute_result"
    }
   ],
   "source": [
    "['Lower bound CI', 'Upper bound CI', 'Standard Error']"
   ]
  },
  {
   "cell_type": "code",
   "execution_count": 66,
   "id": "f21daf6e-34a0-4258-a531-01e59f69b88b",
   "metadata": {},
   "outputs": [],
   "source": [
    "def ci_table(stat_dic, rounding = 2, estimator=True, alpha=True, sample_size= True, n=True, rep= True):\n",
    "    df = pd.DataFrame(data= np.round(np.array([(stat_dic[\"lower\"], stat_dic[\"upper\"], stat_dic[\"std_err\"])]),rounding), \n",
    "                      columns =['Lower bound CI', 'Upper bound CI', 'Standard Error'])\n",
    "    \n",
    "    if estimator is True:\n",
    "        s_name = \"Sample \"+ stat_dic[\"estimator\"]\n",
    "        df[s_name] = np.round(stat_dic[\"sample_\"+ stat_dic[\"estimator\"]], rounding)\n",
    "    \n",
    "    \n",
    "    return df\n",
    "    \n",
    "        "
   ]
  },
  {
   "cell_type": "code",
   "execution_count": 69,
   "id": "9a7531ff-a215-4f11-9862-fa24ed26642a",
   "metadata": {},
   "outputs": [
    {
     "data": {
      "text/html": [
       "<style type=\"text/css\">\n",
       "#T_b7a85_ caption {\n",
       "  caption-side: bottom;\n",
       "  font-size: 1.25em;\n",
       "}\n",
       "</style>\n",
       "<table id=\"T_b7a85_\">\n",
       "  <caption>Bootstrapping sample statistics from sample with 4 records</caption>\n",
       "  <thead>\n",
       "    <tr>\n",
       "      <th class=\"blank level0\" >&nbsp;</th>\n",
       "      <th class=\"col_heading level0 col0\" >Lower bound CI</th>\n",
       "      <th class=\"col_heading level0 col1\" >Upper bound CI</th>\n",
       "      <th class=\"col_heading level0 col2\" >Standard Error</th>\n",
       "      <th class=\"col_heading level0 col3\" >Sample mean</th>\n",
       "    </tr>\n",
       "  </thead>\n",
       "  <tbody>\n",
       "    <tr>\n",
       "      <th id=\"T_b7a85_level0_row0\" class=\"row_heading level0 row0\" >0</th>\n",
       "      <td id=\"T_b7a85_row0_col0\" class=\"data row0 col0\" >1.50</td>\n",
       "      <td id=\"T_b7a85_row0_col1\" class=\"data row0 col1\" >3.50</td>\n",
       "      <td id=\"T_b7a85_row0_col2\" class=\"data row0 col2\" >0.54</td>\n",
       "      <td id=\"T_b7a85_row0_col3\" class=\"data row0 col3\" >2.50</td>\n",
       "    </tr>\n",
       "  </tbody>\n",
       "</table>\n"
      ],
      "text/plain": [
       "<pandas.io.formats.style.Styler at 0x1f419d3bc40>"
      ]
     },
     "execution_count": 69,
     "metadata": {},
     "output_type": "execute_result"
    }
   ],
   "source": [
    "table =  ci_table(st)\n",
    "s = table.style.format('{:.2f}')\n",
    "# table.set_caption(\"Bootstrap sampling statistics\")\n",
    "s.set_caption(\"Bootstrapping sample statistics from sample with \"+ str(st[\"sample_size\"])+\" records\")\\\n",
    " .set_table_styles([{\n",
    "     'selector': 'caption',\n",
    "     'props': 'caption-side: bottom; font-size:1.25em;'\n",
    " }], overwrite=False)"
   ]
  },
  {
   "cell_type": "code",
   "execution_count": 58,
   "id": "286c55ff-bfee-45c6-95cb-4d50743814e3",
   "metadata": {},
   "outputs": [],
   "source": [
    "import dataframe_image as dfi"
   ]
  },
  {
   "cell_type": "code",
   "execution_count": 59,
   "id": "13e92891-cf84-4ca2-b91b-2cef10cf8aae",
   "metadata": {},
   "outputs": [],
   "source": [
    "dfi.export(ci_table(st), \"test_table.PNG\")"
   ]
  }
 ],
 "metadata": {
  "kernelspec": {
   "display_name": "Python 3 (ipykernel)",
   "language": "python",
   "name": "python3"
  },
  "language_info": {
   "codemirror_mode": {
    "name": "ipython",
    "version": 3
   },
   "file_extension": ".py",
   "mimetype": "text/x-python",
   "name": "python",
   "nbconvert_exporter": "python",
   "pygments_lexer": "ipython3",
   "version": "3.9.9"
  }
 },
 "nbformat": 4,
 "nbformat_minor": 5
}
